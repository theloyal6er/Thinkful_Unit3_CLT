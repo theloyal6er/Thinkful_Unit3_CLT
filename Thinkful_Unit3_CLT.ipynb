{
 "cells": [
  {
   "cell_type": "code",
   "execution_count": 19,
   "metadata": {},
   "outputs": [],
   "source": [
    "import numpy as np\n",
    "import pandas as pd\n",
    "import scipy\n",
    "import matplotlib.pyplot as plt\n",
    "%matplotlib inline"
   ]
  },
  {
   "cell_type": "code",
   "execution_count": null,
   "metadata": {},
   "outputs": [],
   "source": [
    "## mean_0.2_10000 = 2.0\n",
    "## difference of means_0.2_(20) = 2.6 | t-stat = 4.888, pvalue=2.444\n",
    "## difference of means_0.2_(100) = 3.12 | t-stat = 16.533, pvalue=2.592\n",
    "## difference of means_0.2_(1000) = 2.928 | t-stat = 47.110, pvalue=1.6\n",
    "\n",
    "## mean_0.3_10000 = 3.0\n",
    "## difference of means_0.3_(20) = 2.45 | t-stat = 5.6779, pvalue=1.5799\n",
    "## difference of means_0.3_(100) = 2.09 | t-stat = 10.265, pvalue=4.281\n",
    "## differnece of means_0.3_(1000) = 2.015 | t-stat = 29.287, pvalue=5.732\n",
    "\n",
    "## mean_0.4_10000 = 4.0\n",
    "## difference of means_0.4_(20) = 0.9499 | t-stat = 1.585, pvalue=0.121\n",
    "## difference of means_0.4_(100) = 1.0899 | t-stat = 5.185, pvalue=5.3948\n",
    "## differnece of means_0.4_(1000) = 0.9539 | t-stat = 13.907, pvalue=4.856"
   ]
  },
  {
   "cell_type": "code",
   "execution_count": 68,
   "metadata": {},
   "outputs": [
    {
     "name": "stdout",
     "output_type": "stream",
     "text": [
      "1.9999\n",
      "5.0084\n",
      "difference of means = 3.0084999999999997\n"
     ]
    },
    {
     "data": {
      "image/png": "[encoded data removed]",
      "text/plain": [
       "<Figure size 432x288 with 1 Axes>"
      ]
     },
     "metadata": {
      "needs_background": "light"
     },
     "output_type": "display_data"
    }
   ],
   "source": [
    "## Question 1 - compare p=0.2 vs p=0.5; change sample sizes from 100, 1000, 20\n",
    "pop1 = np.random.binomial(10, 0.2, 10000)\n",
    "pop2 = np.random.binomial(10, 0.5, 10000) \n",
    "print(pop1.mean())\n",
    "print(pop2.mean())\n",
    "print(\"difference of means = {}\".format(pop2.mean() - pop1.mean()))\n",
    "plt.hist(pop1, alpha=0.5, label='pop1') \n",
    "plt.hist(pop2, alpha=0.5, label='pop2') \n",
    "plt.legend(loc='upper right') \n",
    "plt.show()\n",
    "\n",
    "## mean_10000 = 2.0\n",
    "## difference of means(20) = 2.6 | t-stat = 4.888, pvalue=2.444\n",
    "## difference of means(100) = 3.12 | t-stat = 16.533, pvalue=2.592\n",
    "## difference of means(1000) = 2.928 | t-stat = 47.110, pvalue=1.6"
   ]
  },
  {
   "cell_type": "code",
   "execution_count": 124,
   "metadata": {},
   "outputs": [
    {
     "name": "stdout",
     "output_type": "stream",
     "text": [
      "2.35\n",
      "1.3143439428094916\n",
      "4.95\n",
      "1.909842925478428\n",
      "difference of means = 2.6\n"
     ]
    },
    {
     "data": {
      "image/png": "[encoded data removed]",
      "text/plain": [
       "<Figure size 432x288 with 1 Axes>"
      ]
     },
     "metadata": {
      "needs_background": "light"
     },
     "output_type": "display_data"
    },
    {
     "name": "stdout",
     "output_type": "stream",
     "text": [
      "Ttest_indResult(statistic=4.888334476433499, pvalue=2.4441257783690917e-05)\n"
     ]
    }
   ],
   "source": [
    "sample1_20 = np.random.choice(pop1, 20, replace=True)\n",
    "sample2_20 = np.random.choice(pop2, 20, replace=True)\n",
    "print(sample1_20.mean())\n",
    "print(sample1_20.std())\n",
    "print(sample2_20.mean())\n",
    "print(sample2_20.std())\n",
    "print(\"difference of means = {}\".format(sample2_20.mean() - sample1_20.mean()))\n",
    "plt.hist(sample1_20, alpha=0.5, label='sample1_20') \n",
    "plt.hist(sample2_20, alpha=0.5, label='sample2_20') \n",
    "plt.legend(loc='upper right') \n",
    "plt.show()\n",
    "from scipy.stats import ttest_ind\n",
    "print(ttest_ind(sample2_20, sample1_20, equal_var=False))"
   ]
  },
  {
   "cell_type": "code",
   "execution_count": 130,
   "metadata": {},
   "outputs": [
    {
     "name": "stdout",
     "output_type": "stream",
     "text": [
      "1.88\n",
      "1.0322790320451152\n",
      "5.0\n",
      "1.5684387141358123\n",
      "difference of means = 3.12\n"
     ]
    },
    {
     "data": {
      "image/png": "[encoded data removed]",
      "text/plain": [
       "<Figure size 432x288 with 1 Axes>"
      ]
     },
     "metadata": {
      "needs_background": "light"
     },
     "output_type": "display_data"
    },
    {
     "name": "stdout",
     "output_type": "stream",
     "text": [
      "Ttest_indResult(statistic=16.53315253493304, pvalue=2.592050930729647e-37)\n"
     ]
    }
   ],
   "source": [
    "sample1 = np.random.choice(pop1, 100, replace=True)\n",
    "sample2 = np.random.choice(pop2, 100, replace=True)\n",
    "print(sample1.mean())\n",
    "print(sample1.std())\n",
    "print(sample2.mean())\n",
    "print(sample2.std())\n",
    "print(\"difference of means = {}\".format(sample2.mean() - sample1.mean()))\n",
    "plt.hist(sample1, alpha=0.5, label='sample1') \n",
    "plt.hist(sample2, alpha=0.5, label='sample2') \n",
    "plt.legend(loc='upper right') \n",
    "plt.show()\n",
    "from scipy.stats import ttest_ind\n",
    "print(ttest_ind(sample2, sample1, equal_var=False))"
   ]
  },
  {
   "cell_type": "code",
   "execution_count": 129,
   "metadata": {},
   "outputs": [
    {
     "name": "stdout",
     "output_type": "stream",
     "text": [
      "2.023\n",
      "1.2666771490794329\n",
      "5.016\n",
      "1.558121946447068\n",
      "difference of means = 2.993\n"
     ]
    },
    {
     "data": {
      "image/png": "[encoded data removed]",
      "text/plain": [
       "<Figure size 432x288 with 1 Axes>"
      ]
     },
     "metadata": {
      "needs_background": "light"
     },
     "output_type": "display_data"
    },
    {
     "name": "stdout",
     "output_type": "stream",
     "text": [
      "Ttest_indResult(statistic=47.110489904281465, pvalue=1.6e-322)\n"
     ]
    }
   ],
   "source": [
    "sample1_1000 = np.random.choice(pop1, 1000, replace=True)\n",
    "sample2_1000 = np.random.choice(pop2, 1000, replace=True)\n",
    "print(sample1_1000.mean())\n",
    "print(sample1_1000.std())\n",
    "print(sample2_1000.mean())\n",
    "print(sample2_1000.std())\n",
    "print(\"difference of means = {}\".format(sample2_1000.mean() - sample1_1000.mean()))\n",
    "plt.hist(sample1_1000, alpha=0.5, label='sample1_1000') \n",
    "plt.hist(sample2_1000, alpha=0.5, label='sample2_1000') \n",
    "plt.legend(loc='upper right') \n",
    "plt.show()\n",
    "from scipy.stats import ttest_ind\n",
    "print(ttest_ind(sample2_1000, sample1_1000, equal_var=False))"
   ]
  },
  {
   "cell_type": "code",
   "execution_count": 122,
   "metadata": {
    "scrolled": false
   },
   "outputs": [
    {
     "name": "stdout",
     "output_type": "stream",
     "text": [
      "2.92\n",
      "1.4260434775980706\n",
      "5.01\n",
      "1.4387147041717478\n",
      "difference of means = 2.09\n"
     ]
    },
    {
     "data": {
      "image/png": "[encoded data removed]",
      "text/plain": [
       "<Figure size 432x288 with 1 Axes>"
      ]
     },
     "metadata": {
      "needs_background": "light"
     },
     "output_type": "display_data"
    },
    {
     "name": "stdout",
     "output_type": "stream",
     "text": [
      "Ttest_indResult(statistic=10.26565499491955, pvalue=4.2813216118827605e-20)\n"
     ]
    }
   ],
   "source": [
    "## Question 2\n",
    "## Change the binomial to 0.3, collect from 100 samples\n",
    "pop1_q2_30 = np.random.binomial(10, 0.3, 10000)\n",
    "sample1_q2 = np.random.choice(pop1_q2_30, 100, replace=True)\n",
    "print(sample1_q2.mean())\n",
    "print(sample1_q2.std())\n",
    "print(sample2.mean())\n",
    "print(sample2.std())\n",
    "print(\"difference of means = {}\".format(sample2.mean() - sample1_q2.mean()))\n",
    "## Create histogram to compare against the pop2 data where p-value = 0.5\n",
    "plt.hist(sample1_q2, alpha=0.5, label='pop1_q2_30') \n",
    "plt.hist(sample2, alpha=0.5, label='pop2') \n",
    "plt.legend(loc='upper right') \n",
    "plt.show()\n",
    "print(ttest_ind(sample2, sample1_q2, equal_var=False))\n",
    "\n",
    "## mean_0.3_10000 = 3.0\n",
    "## difference of means_0.3_(20) = 2.45 | t-stat = 5.6779, pvalue=1.5799\n",
    "## difference of means_0.3_(100) = 2.09 | t-stat = 10.265, pvalue=4.281\n",
    "## differnece of means_0.3_(1000) = 2.015 | t-stat = 29.287, pvalue=5.732"
   ]
  },
  {
   "cell_type": "code",
   "execution_count": 123,
   "metadata": {},
   "outputs": [
    {
     "name": "stdout",
     "output_type": "stream",
     "text": [
      "2.7\n",
      "1.307669683062202\n",
      "5.15\n",
      "1.3518505834595773\n",
      "difference of means = 2.45\n"
     ]
    },
    {
     "data": {
      "image/png": "[encoded data removed]",
      "text/plain": [
       "<Figure size 432x288 with 1 Axes>"
      ]
     },
     "metadata": {
      "needs_background": "light"
     },
     "output_type": "display_data"
    },
    {
     "name": "stdout",
     "output_type": "stream",
     "text": [
      "Ttest_indResult(statistic=5.677990487111744, pvalue=1.579915569574166e-06)\n",
      "\n",
      "2.96\n",
      "1.4636939570825593\n",
      "4.975\n",
      "1.608221066893479\n",
      "difference of means = 2.0149999999999997\n"
     ]
    },
    {
     "data": {
      "image/png": "[encoded data removed]",
      "text/plain": [
       "<Figure size 432x288 with 1 Axes>"
      ]
     },
     "metadata": {
      "needs_background": "light"
     },
     "output_type": "display_data"
    },
    {
     "name": "stdout",
     "output_type": "stream",
     "text": [
      "Ttest_indResult(statistic=29.28757875444936, pvalue=5.732501001948283e-157)\n"
     ]
    }
   ],
   "source": [
    "sample1_q2_20 = np.random.choice(pop1_q2_30, 20, replace=True)\n",
    "sample2_20 = np.random.choice(pop2, 20, replace=True)\n",
    "print(sample1_q2_20.mean())\n",
    "print(sample1_q2_20.std())\n",
    "print(sample2_20.mean())\n",
    "print(sample2_20.std())\n",
    "print(\"difference of means = {}\".format(sample2_20.mean() - sample1_q2_20.mean()))\n",
    "plt.hist(sample1_q2_20, alpha=0.5, label='sample1_q2_20') \n",
    "plt.hist(sample2_20, alpha=0.5, label='sample2_20') \n",
    "plt.legend(loc='upper right') \n",
    "plt.show()\n",
    "# T-statistic\n",
    "print(ttest_ind(sample2_20, sample1_q2_20, equal_var=False))\n",
    "print()\n",
    "sample1_q2_1000 = np.random.choice(pop1_q2_30, 1000, replace=True)\n",
    "sample2_1000 = np.random.choice(pop2, 1000, replace=True)\n",
    "print(sample1_q2_1000.mean())\n",
    "print(sample1_q2_1000.std())\n",
    "print(sample2_1000.mean())\n",
    "print(sample2_1000.std())\n",
    "print(\"difference of means = {}\".format(sample2_1000.mean() - sample1_q2_1000.mean()))\n",
    "plt.hist(sample1_q2_1000, alpha=0.5, label='sample1_q2_1000') \n",
    "plt.hist(sample2_1000, alpha=0.5, label='sample2_1000') \n",
    "plt.legend(loc='upper right') \n",
    "plt.show()\n",
    "# T-statistic\n",
    "print(ttest_ind(sample2_1000, sample1_q2_1000, equal_var=False))"
   ]
  },
  {
   "cell_type": "code",
   "execution_count": 84,
   "metadata": {
    "scrolled": false
   },
   "outputs": [
    {
     "name": "stdout",
     "output_type": "stream",
     "text": [
      "4.08\n",
      "1.5791136754521504\n",
      "5.17\n",
      "1.3715319901482428\n",
      "difference of means = 1.0899999999999999\n"
     ]
    },
    {
     "data": {
      "image/png": "[encoded data removed]",
      "text/plain": [
       "<Figure size 432x288 with 1 Axes>"
      ]
     },
     "metadata": {
      "needs_background": "light"
     },
     "output_type": "display_data"
    },
    {
     "name": "stdout",
     "output_type": "stream",
     "text": [
      "Ttest_indResult(statistic=5.185253068458449, pvalue=5.394849696565036e-07)\n"
     ]
    }
   ],
   "source": [
    "## change p = 0.4\n",
    "pop1_q2_40 = np.random.binomial(10, 0.4, 10000)\n",
    "sample1_q2_40 = np.random.choice(pop1_q2_40, 100, replace=True)\n",
    "print(sample1_q2_40.mean())\n",
    "print(sample1_q2_40.std())\n",
    "print(sample2.mean())\n",
    "print(sample2.std())\n",
    "print(\"difference of means = {}\".format(sample2.mean() - sample1_q2_40.mean()))\n",
    "plt.hist(pop1_q2_40, alpha=0.5, label='sample1_q2_40') \n",
    "plt.hist(pop2, alpha=0.5, label='pop2') \n",
    "plt.legend(loc='upper right') \n",
    "plt.show()\n",
    "print(ttest_ind(sample2, sample1_q2_40, equal_var=False))\n",
    "\n",
    "## mean_0.4_10000 = 4.0\n",
    "## difference of means_0.4_(20) = 0.9499 | t-stat = 1.585, pvalue=0.121\n",
    "## difference of means_0.4_(100) = 1.0899 | t-stat = 5.185, pvalue=5.3948\n",
    "## differnece of means_0.4_(1000) = 0.9539 | t-stat = 13.907, pvalue=4.856"
   ]
  },
  {
   "cell_type": "code",
   "execution_count": 120,
   "metadata": {},
   "outputs": [
    {
     "name": "stdout",
     "output_type": "stream",
     "text": [
      "3.9\n",
      "2.0712315177207983\n",
      "4.85\n",
      "1.5898113095584643\n",
      "difference of means = 0.9499999999999997\n"
     ]
    },
    {
     "data": {
      "image/png": "[encoded data removed]",
      "text/plain": [
       "<Figure size 432x288 with 1 Axes>"
      ]
     },
     "metadata": {
      "needs_background": "light"
     },
     "output_type": "display_data"
    },
    {
     "name": "stdout",
     "output_type": "stream",
     "text": [
      "Ttest_indResult(statistic=1.5859439424158452, pvalue=0.12159110411927543)\n",
      "\n",
      "4.057\n",
      "1.5243854499436815\n",
      "5.011\n",
      "1.5417130083125068\n",
      "difference of means = 0.9539999999999997\n"
     ]
    },
    {
     "data": {
      "image/png": "[encoded data removed]",
      "text/plain": [
       "<Figure size 432x288 with 1 Axes>"
      ]
     },
     "metadata": {
      "needs_background": "light"
     },
     "output_type": "display_data"
    },
    {
     "name": "stdout",
     "output_type": "stream",
     "text": [
      "Ttest_indResult(statistic=13.907628612703764, pvalue=4.856078256108403e-42)\n"
     ]
    }
   ],
   "source": [
    "sample1_q2_40_20 = np.random.choice(pop1_q2_40, 20, replace=True)\n",
    "sample2_20 = np.random.choice(pop2, 20, replace=True)\n",
    "print(sample1_q2_40_20.mean())\n",
    "print(sample1_q2_40_20.std())\n",
    "print(sample2_20.mean())\n",
    "print(sample2_20.std())\n",
    "print(\"difference of means = {}\".format(sample2_20.mean() - sample1_q2_40_20.mean()))\n",
    "plt.hist(sample1_q2_40_20, alpha=0.5, label='sample1_q2_40_20') \n",
    "plt.hist(sample2_20, alpha=0.5, label='sample2_20') \n",
    "plt.legend(loc='upper right') \n",
    "plt.show()\n",
    "# T-statistic\n",
    "print(ttest_ind(sample2_20, sample1_q2_40_20, equal_var=False))\n",
    "print()\n",
    "sample1_q2_40_1000 = np.random.choice(pop1_q2_40, 1000, replace=True)\n",
    "sample2_1000 = np.random.choice(pop2, 1000, replace=True)\n",
    "print(sample1_q2_40_1000.mean())\n",
    "print(sample1_q2_40_1000.std())\n",
    "print(sample2_1000.mean())\n",
    "print(sample2_1000.std())\n",
    "print(\"difference of means = {}\".format(sample2_1000.mean() - sample1_q2_40_1000.mean()))\n",
    "plt.hist(sample1_q2_40_1000, alpha=0.5, label='sample1_q2_40_1000') \n",
    "plt.hist(sample2_1000, alpha=0.5, label='sample2_1000') \n",
    "plt.legend(loc='upper right') \n",
    "plt.show()\n",
    "# T-statistic\n",
    "print(ttest_ind(sample2_1000, sample1_q2_40_1000, equal_var=False))"
   ]
  },
  {
   "cell_type": "code",
   "execution_count": 105,
   "metadata": {},
   "outputs": [
    {
     "name": "stdout",
     "output_type": "stream",
     "text": [
      "4.9906\n",
      "1.99\n"
     ]
    },
    {
     "data": {
      "image/png": "[encoded data removed]",
      "text/plain": [
       "<Figure size 432x288 with 1 Axes>"
      ]
     },
     "metadata": {
      "needs_background": "light"
     },
     "output_type": "display_data"
    },
    {
     "name": "stdout",
     "output_type": "stream",
     "text": [
      "4.7\n",
      "1.93\n"
     ]
    },
    {
     "data": {
      "image/png": "[encoded data removed]",
      "text/plain": [
       "<Figure size 432x288 with 1 Axes>"
      ]
     },
     "metadata": {
      "needs_background": "light"
     },
     "output_type": "display_data"
    },
    {
     "name": "stdout",
     "output_type": "stream",
     "text": [
      "Ttest_indResult(statistic=6.026530983221204, pvalue=2.0639212884295536e-08)\n"
     ]
    }
   ],
   "source": [
    "## Question 4\n",
    "pop1_geometric = np.random.geometric(0.2,10000)\n",
    "pop2_geometric = np.random.geometric(0.5,10000)\n",
    "# select 100 as your sample size from geometric shape\n",
    "sample1_geometric = np.random.choice(pop1_geometric,100,replace=True)\n",
    "sample2_geometric = np.random.choice(pop2_geometric,100,replace=True)\n",
    "print(pop1_geometric.mean())\n",
    "print(pop2_geometric.mean())\n",
    "plt.hist(pop1_geometric, alpha=0.5, label='pop1_geometric') \n",
    "plt.hist(pop2_geometric, alpha=0.5, label='pop2_geometric') \n",
    "plt.legend(loc='upper right') \n",
    "plt.show()\n",
    "# set the sample to 100\n",
    "print(sample1_geometric.mean())\n",
    "print(sample2_geometric.mean())\n",
    "plt.hist(sample1_geometric, alpha=0.5, label='sample1_geometric') \n",
    "plt.hist(sample2_geometric, alpha=0.5, label='sample2_geometric') \n",
    "plt.legend(loc='upper right') \n",
    "plt.show()\n",
    "print(ttest_ind(sample1_geometric, sample2_geometric, equal_var=False))"
   ]
  },
  {
   "cell_type": "code",
   "execution_count": 104,
   "metadata": {},
   "outputs": [
    {
     "name": "stdout",
     "output_type": "stream",
     "text": [
      "5.55\n",
      "1.9\n"
     ]
    },
    {
     "data": {
      "image/png": "[encoded data removed]",
      "text/plain": [
       "<Figure size 432x288 with 1 Axes>"
      ]
     },
     "metadata": {
      "needs_background": "light"
     },
     "output_type": "display_data"
    },
    {
     "name": "stdout",
     "output_type": "stream",
     "text": [
      "Ttest_indResult(statistic=3.3219770220683147, pvalue=0.0032281421885177707)\n",
      "\n",
      "4.978\n",
      "2.087\n"
     ]
    },
    {
     "data": {
      "image/png": "[encoded data removed]",
      "text/plain": [
       "<Figure size 432x288 with 1 Axes>"
      ]
     },
     "metadata": {
      "needs_background": "light"
     },
     "output_type": "display_data"
    },
    {
     "name": "stdout",
     "output_type": "stream",
     "text": [
      "Ttest_indResult(statistic=20.63706820482347, pvalue=8.030378258707398e-82)\n"
     ]
    }
   ],
   "source": [
    "## Set the sample size to 20 with geometric distribution\n",
    "sample1_geometric_20 = np.random.choice(pop1_geometric,20,replace=True)\n",
    "sample2_geometric_20 = np.random.choice(pop2_geometric,20,replace=True)\n",
    "print(sample1_geometric_20.mean())\n",
    "print(sample2_geometric_20.mean())\n",
    "plt.hist(sample1_geometric_20, alpha=0.5, label='sample1_geometric_20') \n",
    "plt.hist(sample2_geometric_20, alpha=0.5, label='sample1_geometric_20') \n",
    "plt.legend(loc='upper right') \n",
    "plt.show()\n",
    "print(ttest_ind(sample1_geometric_20, sample2_geometric_20, equal_var=False))\n",
    "print()\n",
    "## Set the sample size to 1000 with geometric distribution\n",
    "sample1_geometric_1000 = np.random.choice(pop1_geometric,1000,replace=True)\n",
    "sample2_geometric_1000 = np.random.choice(pop2_geometric,1000,replace=True)\n",
    "print(sample1_geometric_1000.mean())\n",
    "print(sample2_geometric_1000.mean())\n",
    "plt.hist(sample1_geometric_1000, alpha=0.5, label='sample1_geometric_1000') \n",
    "plt.hist(sample2_geometric_1000, alpha=0.5, label='sample2_geometric_1000') \n",
    "plt.legend(loc='upper right') \n",
    "plt.show()\n",
    "print(ttest_ind(sample1_geometric_1000, sample2_geometric_1000, equal_var=False))"
   ]
  },
  {
   "cell_type": "code",
   "execution_count": null,
   "metadata": {},
   "outputs": [],
   "source": []
  }
 ],
 "metadata": {
  "kernelspec": {
   "display_name": "Python 3",
   "language": "python",
   "name": "python3"
  },
  "language_info": {
   "codemirror_mode": {
    "name": "ipython",
    "version": 3
   },
   "file_extension": ".py",
   "mimetype": "text/x-python",
   "name": "python",
   "nbconvert_exporter": "python",
   "pygments_lexer": "ipython3",
   "version": "3.7.0"
  }
 },
 "nbformat": 4,
 "nbformat_minor": 2
}
